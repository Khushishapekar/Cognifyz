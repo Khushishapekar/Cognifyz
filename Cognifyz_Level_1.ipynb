{
  "nbformat": 4,
  "nbformat_minor": 0,
  "metadata": {
    "colab": {
      "provenance": []
    },
    "kernelspec": {
      "name": "python3",
      "display_name": "Python 3"
    },
    "language_info": {
      "name": "python"
    }
  },
  "cells": [
    {
      "cell_type": "code",
      "execution_count": null,
      "metadata": {
        "id": "FG5A84Usrzi6",
        "colab": {
          "base_uri": "https://localhost:8080/",
          "height": 53
        },
        "outputId": "11cf9706-6954-4cdc-b723-1ddde70423a2"
      },
      "outputs": [
        {
          "name": "stdout",
          "output_type": "stream",
          "text": [
            "Enter a word or sentence: Hello\n"
          ]
        },
        {
          "output_type": "execute_result",
          "data": {
            "text/plain": [
              "'olleH'"
            ],
            "application/vnd.google.colaboratory.intrinsic+json": {
              "type": "string"
            }
          },
          "metadata": {},
          "execution_count": 8
        }
      ],
      "source": [
        "# Level 1:\n",
        "# Task 1: To reverse the given string.\n",
        "\n",
        "def reverse_order():\n",
        "    string = input(\"Enter a word or sentence: \")\n",
        "    return string[::-1]\n",
        "\n",
        "reverse_order()"
      ]
    },
    {
      "cell_type": "code",
      "source": [
        "# Level 1:\n",
        "# Task 2: Temperature Conversion\n",
        "\n",
        "def celsius(celsius):\n",
        "    return (celsius * 9/5) + 32\n",
        "\n",
        "def fahrenheit(fahrenheit):\n",
        "    return (fahrenheit - 32) * 5/9\n",
        "\n",
        "def change():\n",
        "    print(\"Conversion of Temperature: \")\n",
        "    temperature = float(input(\"Enter the value of temperature : \"))\n",
        "    degree = input(\"Enter the unit of measurement (C for Celsius, F for Fahrenheit): \").upper()\n",
        "\n",
        "    if degree == 'C':\n",
        "        conversion = celsius(temperature)\n",
        "        print(f\"{temperature}°C is equal to {conversion:.2f}°F.\")\n",
        "    elif degree == 'F':\n",
        "        conversion = fahrenheit(temperature)\n",
        "        print(f\"{temperature}°F is equal to {conversion:.2f}°C.\")\n",
        "    else:\n",
        "        print(\"Invalid unit of measurement. Please enter 'C' for Celsius or 'F' for Fahrenheit.\")\n",
        "\n",
        "change()"
      ],
      "metadata": {
        "id": "uK-jmAyQLaDw",
        "colab": {
          "base_uri": "https://localhost:8080/"
        },
        "outputId": "25211f6b-9337-4282-e296-9bf369e02ccc"
      },
      "execution_count": null,
      "outputs": [
        {
          "output_type": "stream",
          "name": "stdout",
          "text": [
            "Conversion of Temperature: \n",
            "Enter the value of temperature : 70\n",
            "Enter the unit of measurement (C for Celsius, F for Fahrenheit): C\n",
            "70.0°C is equal to 158.00°F.\n"
          ]
        }
      ]
    },
    {
      "cell_type": "code",
      "source": [
        "# Level 1:\n",
        "# Task 3: Email Validator\n",
        "\n",
        "import re\n",
        "\n",
        "def email_valid():\n",
        "  email = input(\"Enter email i'd for validation : \")\n",
        "  # using regular expression for validating emails\n",
        "  a = r'^[a-zA-Z0-9._%+-]+@[a-zA-Z0-9.-]+\\.[a-zA-Z]{2,}$'\n",
        "\n",
        "  # if user input matches with 'a'\n",
        "  if re.match(a, email):\n",
        "    return 'The email id is vailid.'\n",
        "  else:\n",
        "    return 'The email id is not valid.'\n",
        "\n",
        "email_valid()"
      ],
      "metadata": {
        "id": "zhWfcV7eLZ-I",
        "colab": {
          "base_uri": "https://localhost:8080/",
          "height": 53
        },
        "outputId": "8726742b-8206-4559-a1d6-0c2062ee5fa5"
      },
      "execution_count": null,
      "outputs": [
        {
          "name": "stdout",
          "output_type": "stream",
          "text": [
            "Enter email i'd for validation : abc123.com\n"
          ]
        },
        {
          "output_type": "execute_result",
          "data": {
            "text/plain": [
              "'The email id is not valid.'"
            ],
            "application/vnd.google.colaboratory.intrinsic+json": {
              "type": "string"
            }
          },
          "metadata": {},
          "execution_count": 11
        }
      ]
    },
    {
      "cell_type": "code",
      "source": [
        "# Level 1:\n",
        "# Task 4: Calculator Program\n",
        "\n",
        "# taking inputs from the user\n",
        "number1 = int(input(\"Enter first number : \"))\n",
        "number2 = int(input(\"Enter second number : \"))\n",
        "operator = input(\"Enter the operator (+, -, *, /, %) : \")\n",
        "\n",
        "# conditions to perform operations\n",
        "if operator == '+':\n",
        "  result = number1 + number2\n",
        "  print(\"Output = \",result)\n",
        "\n",
        "elif operator == '-':\n",
        "  result = number1 - number2\n",
        "  print(\"Output = \",result)\n",
        "\n",
        "elif operator == '*':\n",
        "  result = number1 * number2\n",
        "  print(\"Output = \",result)\n",
        "\n",
        "elif operator == '/':\n",
        "  result = number1 / number2\n",
        "  print(\"Output = \",result)\n",
        "\n",
        "elif operator == '%':\n",
        "  result = number1 % number2\n",
        "  print(\"Output = \",result)\n",
        "\n",
        "else:\n",
        "  print(\"Enter valid input.\")\n"
      ],
      "metadata": {
        "colab": {
          "base_uri": "https://localhost:8080/"
        },
        "id": "X9pexkQcbhkF",
        "outputId": "41ee7ed8-b11c-40bd-b73d-f67346ea6bb5"
      },
      "execution_count": null,
      "outputs": [
        {
          "output_type": "stream",
          "name": "stdout",
          "text": [
            "Enter first number : 20\n",
            "Enter second number : 4\n",
            "Enter the operator (+, -, *, /, %) : /\n",
            "Output =  5.0\n"
          ]
        }
      ]
    },
    {
      "cell_type": "code",
      "source": [
        "# Level 1:\n",
        "# Task 5: Palindrome Checker\n",
        "\n",
        "string = input(\"Enter a word or sentence to check : \")\n",
        "\n",
        "if string == string[::-1]:\n",
        "  print(\"This is palindrome.\")\n",
        "else:\n",
        "  print(\"This is not a palindrome.\")"
      ],
      "metadata": {
        "colab": {
          "base_uri": "https://localhost:8080/"
        },
        "id": "gbPKz7WPd9Ah",
        "outputId": "2f8d6942-6664-400b-8e9e-b3e1d9b9b72a"
      },
      "execution_count": null,
      "outputs": [
        {
          "output_type": "stream",
          "name": "stdout",
          "text": [
            "Enter a word or sentence to check : Hey how are you?\n",
            "This is not a palindrome.\n"
          ]
        }
      ]
    }
  ]
}