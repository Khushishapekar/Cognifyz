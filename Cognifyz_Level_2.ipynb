{
  "nbformat": 4,
  "nbformat_minor": 0,
  "metadata": {
    "colab": {
      "provenance": []
    },
    "kernelspec": {
      "name": "python3",
      "display_name": "Python 3"
    },
    "language_info": {
      "name": "python"
    }
  },
  "cells": [
    {
      "cell_type": "code",
      "execution_count": null,
      "metadata": {
        "colab": {
          "base_uri": "https://localhost:8080/"
        },
        "id": "zb627rDFJroX",
        "outputId": "ca547bcd-5162-4432-ca33-32f0064f3fc8"
      },
      "outputs": [
        {
          "output_type": "stream",
          "name": "stdout",
          "text": [
            "Welcome to number guessing game !!!\n",
            " \n",
            "Enter a number you want to guess : 90\n",
            "Too High...!!!\n",
            "Enter a number you want to guess : 80\n",
            "Too High...!!!\n",
            "Enter a number you want to guess : 60\n",
            "Too High...!!!\n",
            "Enter a number you want to guess : 50\n",
            "Too High...!!!\n",
            "Enter a number you want to guess : 40\n",
            "Too High...!!!\n",
            "Enter a number you want to guess : 30\n",
            "Too High...!!!\n",
            "Enter a number you want to guess : 20\n",
            "Too Low...!!!\n",
            "Enter a number you want to guess : 21\n",
            "Too Low...!!!\n",
            "Enter a number you want to guess : 22\n",
            "Too Low...!!!\n",
            "Enter a number you want to guess : 23\n",
            "Too Low...!!!\n",
            "Enter a number you want to guess : 24\n",
            "Too Low...!!!\n",
            "Right Guess !!\n",
            "You guessed the number in (len(guesses) - 1) attempts.\n"
          ]
        }
      ],
      "source": [
        "# Level 2:\n",
        "# Task 1: Number Guessing Game\n",
        "\n",
        "import random\n",
        "\n",
        "number = random.randint(1,100)\n",
        "\n",
        "print(\"Welcome to number guessing game !!!\")\n",
        "print(\"You have to guess the number between the range 1 - 100.\")\n",
        "print(\" \")\n",
        "\n",
        "while True:\n",
        "  guess = int(input(\"Enter a number you want to guess : \"))\n",
        "\n",
        "  if guess > number:\n",
        "    print(\"Too High...!!!\")\n",
        "  else:\n",
        "    print(\"Too Low...!!!\")\n",
        "\n",
        "  if number == guess:\n",
        "      print(\"Right Guess !!\")\n",
        "      break\n",
        "\n"
      ]
    },
    {
      "cell_type": "code",
      "source": [
        "# Level 2:\n",
        "# Task 2: Number Guesser\n",
        "\n",
        "import random\n",
        "\n",
        "def guessing_number():\n",
        "    print(\"Welcome to the Number Guesser Game!\")\n",
        "    print(\" \")\n",
        "\n",
        "    # Get the range from the user\n",
        "    lower_range = int(input(\"Enter the lower range of the range: \"))\n",
        "    upper_range = int(input(\"Enter the upper range of the range: \"))\n",
        "\n",
        "    # Generate a random number within the specified range\n",
        "    guess_number = random.randint(lower_range, upper_range)\n",
        "    guess = None\n",
        "\n",
        "    print(f\"I have selected a number between {lower_range} and {upper_range}. Try to guess it!\")\n",
        "    print(\" \")\n",
        "\n",
        "    while guess != guess_number:\n",
        "        guess = int(input(\"Enter your guess: \"))\n",
        "\n",
        "        if guess < guess_number:\n",
        "            print(\"Too low!\")\n",
        "        elif guess > guess_number:\n",
        "            print(\"Too high!\")\n",
        "        else:\n",
        "            print(\"Congratulations! You've guessed the correct number.\")\n",
        "\n",
        "\n",
        "guessing_number()"
      ],
      "metadata": {
        "colab": {
          "base_uri": "https://localhost:8080/"
        },
        "id": "zn020YteSudZ",
        "outputId": "d20009dd-3d88-4b1d-c5eb-43ac1d070efa"
      },
      "execution_count": null,
      "outputs": [
        {
          "output_type": "stream",
          "name": "stdout",
          "text": [
            "Welcome to the Number Guesser Game!\n",
            "Enter the lower range of the range: 20\n",
            "Enter the upper range of the range: 40\n",
            "I have selected a number between 20 and 40. Try to guess it!\n",
            "Enter your guess: 25\n",
            "Too low!\n",
            "Enter your guess: 30\n",
            "Too low!\n",
            "Enter your guess: 35\n",
            "Too high!\n",
            "Enter your guess: 31\n",
            "Congratulations! You've guessed the correct number.\n"
          ]
        }
      ]
    },
    {
      "cell_type": "code",
      "source": [
        "# Level 2:\n",
        "# Task 3: Password Strength Checker\n",
        "\n",
        "def password_strength(password):\n",
        "    # Check the length of password, it must be of 8 digits\n",
        "    if len(password) < 8:\n",
        "        return \"Your password should be at least 8 characters long.\"\n",
        "\n",
        "    # Check whether the passworde contains upper and lower characters\n",
        "    uppercase = any(c.isupper() for c in password)\n",
        "    lowercase = any(c.islower() for c in password)\n",
        "    if not (uppercase and lowercase):\n",
        "        return \"Your password should contain both uppercase and lowercase letters.\"\n",
        "\n",
        "    # Check whether the password contains the numeric value\n",
        "    has_digit = any(c.isdigit() for c in password)\n",
        "    if not has_digit:\n",
        "        return \"Your password should contain at least one digit.\"\n",
        "\n",
        "    # Checking for atleast one special character in password\n",
        "    special_chars = \"!@#$%^&*()_+[]{}|;:,.<>?~\"\n",
        "    has_special = any(c in special_chars for c in password)\n",
        "    if not has_special:\n",
        "        return \"Your password should contain at least one special character.\"\n",
        "\n",
        "    return \"Your password meets all criteria!\"\n",
        "\n",
        "# Getting the password from the user:\n",
        "password = input(\"Enter your password: \")\n",
        "result = password_strength(password)\n",
        "print(result)\n"
      ],
      "metadata": {
        "colab": {
          "base_uri": "https://localhost:8080/"
        },
        "id": "Y8C4of0hSuQu",
        "outputId": "9c9d0cc0-3d3b-4bf4-8088-5c9802e37325"
      },
      "execution_count": 16,
      "outputs": [
        {
          "output_type": "stream",
          "name": "stdout",
          "text": [
            "Enter your password: khushi\n",
            " \n"
          ]
        }
      ]
    },
    {
      "cell_type": "code",
      "source": [
        "# Level 2:\n",
        "# Task 4: Fibonacci Sequence\n",
        "\n",
        "def fibonacci_series(n):\n",
        "    fibonacci = [0, 1]\n",
        "    for i in range(2, n):\n",
        "        next_term = fibonacci[-1] + fibonacci[-2]\n",
        "        fibonacci.append(next_term)\n",
        "    return fibonacci\n",
        "\n",
        "number = int(input(\"Enter the number of terms for series : \"))\n",
        "result = fibonacci_series(number)\n",
        "print(\"The fibonacci series upto given number is: \", result)\n"
      ],
      "metadata": {
        "colab": {
          "base_uri": "https://localhost:8080/"
        },
        "id": "XfUb3Y3v_E9I",
        "outputId": "74987d88-019a-4302-f693-953cb68c924d"
      },
      "execution_count": 18,
      "outputs": [
        {
          "output_type": "stream",
          "name": "stdout",
          "text": [
            "Enter the number of terms for series : 10\n",
            "The fibonacci series upto given number is:  [0, 1, 1, 2, 3, 5, 8, 13, 21, 34]\n"
          ]
        }
      ]
    },
    {
      "cell_type": "code",
      "source": [
        "def word_count(filename):\n",
        "    counts = {}\n",
        "    with open(filename, 'r') as file:\n",
        "        for line in file:\n",
        "            words = line.lower().split()\n",
        "            for word in words:\n",
        "                # Remove punctuation\n",
        "                word = word.strip('.,!?\":;')\n",
        "                if word:\n",
        "                    counts[word] = counts.get(word, 0) + 1\n",
        "\n",
        "    # Sorting the word counts alphabetically\n",
        "    sorted_counts = sorted(counts.items())\n",
        "\n",
        "    # Displaying the results\n",
        "    for word, count in sorted_counts:\n",
        "        print(f\"{word}: {count}\")\n",
        "\n",
        "# Execution:\n",
        "file_name = \"Sample.txt\"  # You can replace file name with you file path\n",
        "print(\"Total Word Count is: \")\n",
        "word_count(file_name)\n"
      ],
      "metadata": {
        "colab": {
          "base_uri": "https://localhost:8080/"
        },
        "id": "iCFfuK5p_EwJ",
        "outputId": "3c8e6a16-483a-4b62-a2a1-6ce79e587ee6"
      },
      "execution_count": 23,
      "outputs": [
        {
          "output_type": "stream",
          "name": "stdout",
          "text": [
            "Total Word Count is: \n",
            "'content: 1\n",
            "'lorem: 1\n",
            "(injected: 1\n",
            "1500s: 1\n",
            "1960s: 1\n",
            "a: 7\n",
            "accident: 1\n",
            "aldus: 1\n",
            "also: 1\n",
            "an: 1\n",
            "and: 6\n",
            "as: 2\n",
            "at: 1\n",
            "be: 1\n",
            "been: 1\n",
            "book: 1\n",
            "but: 1\n",
            "by: 2\n",
            "centuries: 1\n",
            "containing: 1\n",
            "content: 2\n",
            "default: 1\n",
            "desktop: 2\n",
            "distracted: 1\n",
            "distribution: 1\n",
            "do: 1\n",
            "dummy: 2\n",
            "editors: 1\n",
            "electronic: 1\n",
            "english: 1\n",
            "essentially: 1\n",
            "established: 1\n",
            "ever: 1\n",
            "evolved: 1\n",
            "fact: 1\n",
            "five: 1\n",
            "for: 1\n",
            "galley: 1\n",
            "has: 3\n",
            "have: 1\n",
            "here: 1\n",
            "here': 1\n",
            "humour: 1\n",
            "in: 2\n",
            "including: 1\n",
            "industry: 1\n",
            "industry's: 1\n",
            "infancy: 1\n",
            "into: 1\n",
            "ipsum: 7\n",
            "ipsum': 1\n",
            "is: 4\n",
            "it: 7\n",
            "its: 1\n",
            "layout: 1\n",
            "leap: 1\n",
            "letraset: 1\n",
            "letters: 1\n",
            "like: 2\n",
            "like): 1\n",
            "long: 1\n",
            "look: 1\n",
            "looking: 1\n",
            "lorem: 7\n",
            "make: 1\n",
            "making: 1\n",
            "many: 2\n",
            "model: 1\n",
            "more: 1\n",
            "more-or-less: 1\n",
            "normal: 1\n",
            "not: 1\n",
            "now: 1\n",
            "of: 7\n",
            "on: 1\n",
            "only: 1\n",
            "opposed: 1\n",
            "over: 1\n",
            "packages: 1\n",
            "page: 2\n",
            "pagemaker: 1\n",
            "passages: 1\n",
            "point: 1\n",
            "popularised: 1\n",
            "printer: 1\n",
            "printing: 1\n",
            "publishing: 2\n",
            "purpose: 1\n",
            "readable: 2\n",
            "reader: 1\n",
            "recently: 1\n",
            "release: 1\n",
            "remaining: 1\n",
            "scrambled: 1\n",
            "search: 1\n",
            "sheets: 1\n",
            "simply: 1\n",
            "since: 1\n",
            "sites: 1\n",
            "software: 1\n",
            "sometimes: 2\n",
            "specimen: 1\n",
            "standard: 1\n",
            "still: 1\n",
            "survived: 1\n",
            "text: 3\n",
            "that: 2\n",
            "the: 10\n",
            "their: 2\n",
            "to: 2\n",
            "took: 1\n",
            "type: 2\n",
            "typesetting: 2\n",
            "unchanged: 1\n",
            "uncover: 1\n",
            "unknown: 1\n",
            "use: 2\n",
            "using: 2\n",
            "various: 1\n",
            "versions: 2\n",
            "was: 1\n",
            "we: 1\n",
            "web: 2\n",
            "what: 1\n",
            "when: 2\n",
            "why: 1\n",
            "will: 2\n",
            "with: 2\n",
            "years: 1\n"
          ]
        }
      ]
    }
  ]
}